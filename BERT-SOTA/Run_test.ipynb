{
 "cells": [
  {
   "cell_type": "markdown",
   "metadata": {},
   "source": [
    "### Running BertQnA on Squad Dataset"
   ]
  },
  {
   "cell_type": "code",
   "execution_count": 4,
   "metadata": {
    "scrolled": false
   },
   "outputs": [
    {
     "name": "stdout",
     "output_type": "stream",
     "text": [
      "cpu\n"
     ]
    },
    {
     "name": "stderr",
     "output_type": "stream",
     "text": [
      "100%|████████████████████████████████████████████████████████████████████████████████████| 1/1 [00:07<00:00,  7.40s/it]\n"
     ]
    },
    {
     "name": "stdout",
     "output_type": "stream",
     "text": [
      "Ethers are a class of organic compounds that contain an ether groupâ€”an oxygen atom connected to two alkyl or aryl groups. They have the general formula Râ€“Oâ€“Râ€², where R and Râ€² represent the alkyl or aryl groups. Ethers can again be classified into two varieties: if the alkyl groups are the same on both sides of the oxygen atom, then it is a simple or symmetrical ether, whereas if they are different, the ethers are called mixed or unsymmetrical ethers. A typical example of the first group is the solvent and anesthetic diethyl ether, commonly referred to simply as \"ether\" (CH3â€“CH2â€“Oâ€“CH2â€“CH3). Ethers are common in organic chemistry and even more prevalent in biochemistry, as they are common linkages in carbohydrates and lignin. \n",
      "\n",
      "\n",
      "***********Question and Answers *************\n",
      "What is the formula of alkyl group?\n",
      "Râ€“Oâ€“Râ€²\n",
      "\n",
      "\n",
      "What is symmetrical ether ?\n",
      "if the alkyl groups are the same on both sides of the oxygen atom\n",
      "\n",
      "\n",
      "BERT is conceptually simple and empirically powerful. It obtains new state-of-the-art results on eleven natural language processing tasks, including pushing the GLUE benchmark to 80.4% (7.6% absolute improvement), MultiNLI accuracy to 86.7% (5.6% absolute improvement) and the SQuAD v1.1 question answering Test F1 to 93.2 (1.5 absolute improvement), outperforming human performance by 2.0.\n",
      "\n",
      "\n",
      "***********Question and Answers *************\n",
      "What does BERT achieves ?\n",
      "new state-of-the-art results\n",
      "\n",
      "\n",
      "What is the BERT's accuracy on MultiNLI ?\n",
      "86.7%\n",
      "\n",
      "\n",
      "What is Bert's F1 score on Squad v1.1 ?\n",
      "93.2\n",
      "\n",
      "\n",
      "My Name is Rahul. I worked for Global logic. I love football here \n",
      "\n",
      "\n",
      "***********Question and Answers *************\n",
      "What is my name?\n",
      "Rahul\n",
      "\n",
      "\n",
      "Where i work ?\n",
      "Global logic\n",
      "\n",
      "\n",
      "What i love th most?\n",
      "football\n",
      "\n",
      "\n"
     ]
    }
   ],
   "source": [
    "%run Test_Batch.py --paragraph ../Input_file.txt --model ../pytorch_model.bin --config_file ../Results/bert_config.json"
   ]
  },
  {
   "cell_type": "code",
   "execution_count": null,
   "metadata": {},
   "outputs": [],
   "source": []
  },
  {
   "cell_type": "code",
   "execution_count": null,
   "metadata": {},
   "outputs": [],
   "source": []
  },
  {
   "cell_type": "code",
   "execution_count": null,
   "metadata": {},
   "outputs": [],
   "source": []
  }
 ],
 "metadata": {
  "kernelspec": {
   "display_name": "Python 3",
   "language": "python",
   "name": "python3"
  },
  "language_info": {
   "codemirror_mode": {
    "name": "ipython",
    "version": 3
   },
   "file_extension": ".py",
   "mimetype": "text/x-python",
   "name": "python",
   "nbconvert_exporter": "python",
   "pygments_lexer": "ipython3",
   "version": "3.7.2"
  }
 },
 "nbformat": 4,
 "nbformat_minor": 2
}
